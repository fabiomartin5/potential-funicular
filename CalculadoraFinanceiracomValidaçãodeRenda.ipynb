{
  "nbformat": 4,
  "nbformat_minor": 0,
  "metadata": {
    "colab": {
      "provenance": [],
      "authorship_tag": "ABX9TyO1dk+BQDLJMbungbUb8Dde",
      "include_colab_link": true
    },
    "kernelspec": {
      "name": "python3",
      "display_name": "Python 3"
    },
    "language_info": {
      "name": "python"
    }
  },
  "cells": [
    {
      "cell_type": "markdown",
      "metadata": {
        "id": "view-in-github",
        "colab_type": "text"
      },
      "source": [
        "<a href=\"https://colab.research.google.com/github/fabiomartin5/potential-funicular/blob/main/CalculadoraFinanceiracomValida%C3%A7%C3%A3odeRenda.ipynb\" target=\"_parent\"><img src=\"https://colab.research.google.com/assets/colab-badge.svg\" alt=\"Open In Colab\"/></a>"
      ]
    },
    {
      "cell_type": "code",
      "execution_count": null,
      "metadata": {
        "colab": {
          "base_uri": "https://localhost:8080/"
        },
        "id": "z_dpi-PZ6kpm",
        "outputId": "5076b4bd-86e5-49a1-d628-e21db160ff4a"
      },
      "outputs": [
        {
          "output_type": "stream",
          "name": "stdout",
          "text": [
            "=== Calculadora Financeira ===\n"
          ]
        }
      ],
      "source": [
        "def validar_renda():\n",
        "    while True:\n",
        "        renda_str = input(\"Digite sua renda mensal)\n",
        "        try:\n",
        "            renda = float(renda_str)\n",
        "            if renda < 1000 or renda > 10000:\n",
        "                print(\"A renda deve estar entre R$1000 e R$10000.\")\n",
        "            else:\n",
        "                return renda\n",
        "        except ValueError:\n",
        "            print(\"Por favor, insira um número válido para a renda.\")\n",
        "\n",
        "def calcular_emprestimo(renda):\n",
        "    while True:\n",
        "        try:\n",
        "            valor_emprestimo_str = input(\"Digite o valor do empréstimo desejado: \")\n",
        "            valor_emprestimo_str = valor_emprestimo_str.replace(',', '.')\n",
        "            valor_emprestimo = float(valor_emprestimo_str)\n",
        "            if valor_emprestimo <= 0:\n",
        "                print(\"O valor do empréstimo deve ser positivo.\")\n",
        "                continue\n",
        "            break\n",
        "        except ValueError:\n",
        "            print(\"Por favor, insira um valor válido para o empréstimo.\")\n",
        "\n",
        "    while True:\n",
        "        try:\n",
        "            prazo_meses = int(input(\"Digite o prazo do empréstimo em meses: \"))\n",
        "            if prazo_meses <= 0:\n",
        "                print(\"O prazo do empréstimo deve ser um número inteiro positivo.\")\n",
        "                continue\n",
        "            break\n",
        "        except ValueError:\n",
        "            print(\"Por favor, insira um número inteiro válido para o prazo do empréstimo.\")\n",
        "\n",
        "    taxa_juros = 0.1 / 12  # Taxa de juros mensal\n",
        "\n",
        "    # Cálculo do valor presente do empréstimo\n",
        "    pv = valor_emprestimo\n",
        "\n",
        "    # Cálculo da prestação mensal\n",
        "    prestacao = (pv * taxa_juros) / (1 - (1 + taxa_juros) ** -prazo_meses)\n",
        "\n",
        "    # Cálculo do custo total do empréstimo\n",
        "    custo_total = prestacao * prazo_meses\n",
        "\n",
        "    return prestacao, custo_total\n",
        "\n",
        "def apresentar_resultados(prestacao, custo_total):\n",
        "    print(f\"O valor da prestação mensal é R${prestacao:.2f}.\")\n",
        "    print(f\"O custo total do empréstimo é R${custo_total:.2f}.\")\n",
        "\n",
        "def main():\n",
        "    print(\"=== Calculadora Financeira ===\")\n",
        "    renda = validar_renda()\n",
        "    prestacao, custo_total = calcular_emprestimo(renda)\n",
        "    apresentar_resultados(prestacao, custo_total)\n",
        "\n",
        "if __name__ == \"__main__\":\n",
        "    main()\n"
      ]
    }
  ]
}
